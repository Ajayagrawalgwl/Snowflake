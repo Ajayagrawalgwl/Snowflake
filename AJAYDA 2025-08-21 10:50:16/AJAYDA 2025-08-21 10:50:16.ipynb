{
 "metadata": {
  "kernelspec": {
   "display_name": "Streamlit Notebook",
   "name": "streamlit"
  },
  "lastEditStatus": {
   "notebookId": "df2gjahvajv6boed3in7",
   "authorId": "5238069694474",
   "authorName": "AJAYDA",
   "authorEmail": "ajayagrawalgwl@rediffmail.com",
   "sessionId": "ae8f4d06-def4-4978-accc-79eb5833224e",
   "lastEditTime": 1755842951031
  }
 },
 "nbformat_minor": 5,
 "nbformat": 4,
 "cells": [
  {
   "cell_type": "code",
   "id": "3775908f-ca36-4846-8f38-5adca39217f2",
   "metadata": {
    "language": "python",
    "name": "cell1"
   },
   "source": "# Import python packages\nimport streamlit as st\nimport pandas as pd\n\n# We can also use Snowpark for our analyses!\nfrom snowflake.snowpark.context import get_active_session\nsession = get_active_session()\n",
   "execution_count": null,
   "outputs": []
  },
  {
   "cell_type": "code",
   "id": "d0ebf32e-e61d-4544-9a4f-9f32fd6f8ff9",
   "metadata": {
    "language": "python",
    "name": "cell4"
   },
   "outputs": [],
   "source": "# We can also use Snowpark for our analyses!\nfrom snowflake.snowpark.context import get_active_session\nsession = get_active_session()\nfrom faker import Faker\nimport pandas as pd\nimport os\n\ndef generate_customer_data(num_records=1000):\n    fake = Faker()\n    data = [{\n        'customer_id': i,\n        'name': fake.name(),\n        'email': fake.email(),\n        'phone': fake.phone_number(),\n        'address': fake.address(),\n        'company': fake.company()\n    } for i in range(num_records)]\n    return pd.DataFrame(data)\n\ndf = generate_customer_data()\nsnowdf = session.create_dataframe(df)\nsnowdf.show()\n#snowdf.write.save_as_table(\"SYNTHETIC_CUSTOMERS\")",
   "execution_count": null
  },
  {
   "cell_type": "code",
   "id": "3a1aab1f-fc74-42b7-9e85-7f3bf4a0e483",
   "metadata": {
    "language": "sql",
    "name": "cell5"
   },
   "outputs": [],
   "source": "select * from SYNTHETIC_CUSTOMERS",
   "execution_count": null
  },
  {
   "cell_type": "code",
   "id": "8d50cbf4-0c8d-4950-86cb-114990437ac9",
   "metadata": {
    "language": "sql",
    "name": "cell2"
   },
   "source": "-- Welcome to Snowflake Notebooks!\n-- Try out a SQL cell to generate some data.\nSELECT 'FRIDAY' as SNOWDAY, 0.2 as CHANCE_OF_SNOW\nUNION ALL\nSELECT 'SATURDAY',0.5\nUNION ALL \nSELECT 'SUNDAY', 0.9;",
   "execution_count": null,
   "outputs": []
  },
  {
   "cell_type": "code",
   "id": "c695373e-ac74-4b62-a1f1-08206cbd5c81",
   "metadata": {
    "language": "python",
    "name": "cell3"
   },
   "source": "# Then, we can use the python name to turn cell2 into a Pandas dataframe\nmy_df = cell2.to_pandas()\n\n# Chart the data\nst.subheader(\"Chance of SNOW ❄️\")\nst.line_chart(my_df, x='SNOWDAY', y='CHANCE_OF_SNOW')\n\n# Give it a go!\nst.subheader(\"Try it out yourself and show off your skills 🥇\")",
   "execution_count": null,
   "outputs": []
  }
 ]
}